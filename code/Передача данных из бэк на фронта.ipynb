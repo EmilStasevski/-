{
 "cells": [
  {
   "cell_type": "markdown",
   "id": "e66cba92",
   "metadata": {},
   "source": [
    "# Сохранение данных в Firebase"
   ]
  },
  {
   "cell_type": "code",
   "execution_count": null,
   "id": "6e05b0b1",
   "metadata": {},
   "outputs": [],
   "source": [
    "# !pip install firebase_admin"
   ]
  },
  {
   "cell_type": "code",
   "execution_count": 1,
   "id": "3cba1c3e",
   "metadata": {},
   "outputs": [],
   "source": [
    "import firebase_admin\n",
    "from firebase_admin import db\n",
    "from firebase_admin import credentials\n",
    "import pandas as pd\n",
    "import json"
   ]
  },
  {
   "cell_type": "markdown",
   "id": "1009db41",
   "metadata": {},
   "source": [
    "### Коннектимся с базой"
   ]
  },
  {
   "cell_type": "code",
   "execution_count": 2,
   "id": "f4d63682",
   "metadata": {},
   "outputs": [],
   "source": [
    "cred = credentials.Certificate(\"CEC.json\")\n",
    "if not firebase_admin._apps:\n",
    "    firebase_admin.initialize_app(cred, {\n",
    "        'databaseURL': \"https://parsingcec-default-rtdb.europe-west1.firebasedatabase.app/\"\n",
    "    })"
   ]
  },
  {
   "cell_type": "code",
   "execution_count": 3,
   "id": "98b3cd7c",
   "metadata": {},
   "outputs": [],
   "source": [
    "ref = db.reference('/')"
   ]
  },
  {
   "cell_type": "code",
   "execution_count": 11,
   "id": "2e1765af",
   "metadata": {
    "scrolled": true
   },
   "outputs": [],
   "source": [
    "constRF= pd.read_csv(\"https://raw.githubusercontent.com/EmilStasevski/Parsing-CEC-Central-Election-Commission-of-the-Russian-Federation/main/data/republic_of_adygeya.csv\")\n",
    "president = pd.read_csv(\"https://raw.githubusercontent.com/EmilStasevski/Parsing-CEC-Central-Election-Commission-of-the-Russian-Federation/main/data/df.csv\")\n"
   ]
  },
  {
   "cell_type": "markdown",
   "id": "d45a0758",
   "metadata": {},
   "source": [
    "### Превращаем df в json"
   ]
  },
  {
   "cell_type": "code",
   "execution_count": 13,
   "id": "8c6931a5",
   "metadata": {},
   "outputs": [],
   "source": [
    "with open('constRF.json', 'w', encoding='utf-8') as file:\n",
    "    constRF.to_json(file, force_ascii=False, orient='records')\n",
    "    \n",
    "with open('PresidentElection.json', 'w', encoding='utf-8') as file:\n",
    "    president.to_json(file, force_ascii=False, orient='records')    "
   ]
  },
  {
   "cell_type": "code",
   "execution_count": 14,
   "id": "2e62f8de",
   "metadata": {},
   "outputs": [],
   "source": [
    "f1 = open('PresidentElection.json', encoding='utf-8')\n",
    "f2 = open('constRF.json', encoding='utf-8')\n",
    "\n",
    "data1 = json.load(f1)\n",
    "data2 = json.load(f2)"
   ]
  },
  {
   "cell_type": "markdown",
   "id": "8ab1a756",
   "metadata": {},
   "source": [
    "### Пушим json в базу данных"
   ]
  },
  {
   "cell_type": "code",
   "execution_count": 15,
   "id": "e8064191",
   "metadata": {},
   "outputs": [
    {
     "data": {
      "text/plain": [
       "{'candidate': 'БАБУРИН Сергей Николаевич',\n",
       " 'voices': 479013,\n",
       " 'percentage': 0.65,\n",
       " 'year': 2018}"
      ]
     },
     "execution_count": 15,
     "metadata": {},
     "output_type": "execute_result"
    }
   ],
   "source": [
    "#Смотрим, что внутри\n",
    "data1[0]"
   ]
  },
  {
   "cell_type": "code",
   "execution_count": 16,
   "id": "c543d2bc",
   "metadata": {},
   "outputs": [],
   "source": [
    "ref.set({\n",
    "    # Президентские выборы\n",
    "    \"PresidentElection\":\n",
    "    data1,\n",
    "    \n",
    "    # поправки в Конституцию\n",
    "    \"ConstRF\":\n",
    "    data2\n",
    "    \n",
    "})"
   ]
  },
  {
   "cell_type": "markdown",
   "id": "d9674c5b",
   "metadata": {},
   "source": [
    "### Всем в одноя ячейке автоматически"
   ]
  }
 ],
 "metadata": {
  "kernelspec": {
   "display_name": "Python 3 (ipykernel)",
   "language": "python",
   "name": "python3"
  },
  "language_info": {
   "codemirror_mode": {
    "name": "ipython",
    "version": 3
   },
   "file_extension": ".py",
   "mimetype": "text/x-python",
   "name": "python",
   "nbconvert_exporter": "python",
   "pygments_lexer": "ipython3",
   "version": "3.9.7"
  }
 },
 "nbformat": 4,
 "nbformat_minor": 5
}
