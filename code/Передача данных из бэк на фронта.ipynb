{
 "cells": [
  {
   "cell_type": "markdown",
   "id": "e66cba92",
   "metadata": {},
   "source": [
    "# Сохранение данных в Firebase"
   ]
  },
  {
   "cell_type": "code",
   "execution_count": null,
   "id": "6e05b0b1",
   "metadata": {},
   "outputs": [],
   "source": [
    "# !pip install firebase_admin"
   ]
  },
  {
   "cell_type": "code",
   "execution_count": 50,
   "id": "3cba1c3e",
   "metadata": {},
   "outputs": [],
   "source": [
    "import firebase_admin\n",
    "from firebase_admin import db\n",
    "from firebase_admin import credentials\n",
    "import pandas as pd\n",
    "import json"
   ]
  },
  {
   "cell_type": "code",
   "execution_count": 51,
   "id": "f0fbd17d",
   "metadata": {},
   "outputs": [],
   "source": [
    "### Весь процесс в 1 функции "
   ]
  },
  {
   "cell_type": "code",
   "execution_count": 52,
   "id": "1147308f",
   "metadata": {},
   "outputs": [],
   "source": [
    "import firebase_admin\n",
    "from firebase_admin import db\n",
    "from firebase_admin import credentials\n",
    "import pandas as pd\n",
    "import json\n",
    "\n",
    "# Здесь типо парсинг\n",
    "#Но для примера я тупо читаю с гитхаба\n",
    "СonstitutionalReferendum = pd.read_csv(\"https://raw.githubusercontent.com/EmilStasevski/Parsing-CEC-Central-Election-Commission-of-the-Russian-Federation/main/data/republic_of_adygeya.csv\")\n",
    "PresidentElection = pd.read_csv(\"https://raw.githubusercontent.com/EmilStasevski/Parsing-CEC-Central-Election-Commission-of-the-Russian-Federation/main/data/df.csv\")\n",
    "StateDuma = pd.DataFrame()\n",
    "RegionalElection = pd.DataFrame()\n",
    "# Все 4 спарсенных датафрема - (Президентские,Региональные , Конституция,  ГосДума)\n",
    "list_of_dfs = [PresidentElection, RegionalElection,СonstitutionalReferendum , StateDuma  ]\n",
    "\n",
    "def pushFireBase(list_of_dfs):\n",
    "    json_list = [i.to_dict(orient='records') for i in list_of_dfs]\n",
    "    collections_names = [ 'PresidentElection', 'RegionalElection','СonstitutionalReferendum', 'StateDumaElection']\n",
    "    cred = credentials.Certificate(\"CEC.json\")\n",
    "    if not firebase_admin._apps:\n",
    "        firebase_admin.initialize_app(cred, {\n",
    "        'databaseURL': \"https://parsingcec-default-rtdb.europe-west1.firebasedatabase.app/\"\n",
    "    })\n",
    "    ref = db.reference('/')\n",
    "    for name, df in zip(collections_names, json_list):\n",
    "        ref.child(name).set(df)\n",
    "        \n",
    "pushFireBase(list_of_dfs)"
   ]
  },
  {
   "cell_type": "markdown",
   "id": "1009db41",
   "metadata": {},
   "source": [
    "### Коннектимся с базой"
   ]
  },
  {
   "cell_type": "code",
   "execution_count": 45,
   "id": "f4d63682",
   "metadata": {},
   "outputs": [],
   "source": [
    "cred = credentials.Certificate(\"CEC.json\")\n",
    "if not firebase_admin._apps:\n",
    "    firebase_admin.initialize_app(cred, {\n",
    "        'databaseURL': \"https://parsingcec-default-rtdb.europe-west1.firebasedatabase.app/\"\n",
    "    })"
   ]
  },
  {
   "cell_type": "code",
   "execution_count": 46,
   "id": "98b3cd7c",
   "metadata": {},
   "outputs": [],
   "source": [
    "ref = db.reference('/')"
   ]
  },
  {
   "cell_type": "code",
   "execution_count": 47,
   "id": "2e1765af",
   "metadata": {
    "scrolled": true
   },
   "outputs": [],
   "source": [
    "constRF= pd.read_csv(\"https://raw.githubusercontent.com/EmilStasevski/Parsing-CEC-Central-Election-Commission-of-the-Russian-Federation/main/data/republic_of_adygeya.csv\")\n",
    "president = pd.read_csv(\"https://raw.githubusercontent.com/EmilStasevski/Parsing-CEC-Central-Election-Commission-of-the-Russian-Federation/main/data/df.csv\")\n",
    "dfs = [constRF, president]"
   ]
  },
  {
   "cell_type": "markdown",
   "id": "d45a0758",
   "metadata": {},
   "source": [
    "### Превращаем df в json"
   ]
  },
  {
   "cell_type": "code",
   "execution_count": 48,
   "id": "a018a829",
   "metadata": {
    "scrolled": true
   },
   "outputs": [
    {
     "data": {
      "text/plain": [
       "{'region': 'Республика Адыгея (Адыгея)',\n",
       " 'commission_name': 'Адыгейская',\n",
       " 'voters_number': 11669,\n",
       " 'issued_ballots_number': 9810,\n",
       " 'turned_ballots_number': 9810,\n",
       " 'bad_ballots_number': 30,\n",
       " 'for_votes_number': 8637,\n",
       " 'for_votes_percent': 88.03999999999999,\n",
       " 'against_votes_number': 1143,\n",
       " 'against_votes_percent': 11.65}"
      ]
     },
     "execution_count": 48,
     "metadata": {},
     "output_type": "execute_result"
    }
   ],
   "source": [
    "president_json = president.to_dict(orient='records')\n",
    "constRF_json = constRF.to_dict(orient='records')\n",
    "constRF_json[0]"
   ]
  },
  {
   "cell_type": "markdown",
   "id": "8ab1a756",
   "metadata": {},
   "source": [
    "### Пушим json в базу данных"
   ]
  },
  {
   "cell_type": "code",
   "execution_count": 49,
   "id": "c543d2bc",
   "metadata": {},
   "outputs": [],
   "source": [
    "ref.set({\n",
    "    # Президентские выборы\n",
    "    \"PresidentElection\":\n",
    "    president_json,\n",
    "    \n",
    "    # поправки в Конституцию\n",
    "    \"ConstRF\":\n",
    "    constRF_json \n",
    "    \n",
    "})"
   ]
  }
 ],
 "metadata": {
  "kernelspec": {
   "display_name": "Python 3 (ipykernel)",
   "language": "python",
   "name": "python3"
  },
  "language_info": {
   "codemirror_mode": {
    "name": "ipython",
    "version": 3
   },
   "file_extension": ".py",
   "mimetype": "text/x-python",
   "name": "python",
   "nbconvert_exporter": "python",
   "pygments_lexer": "ipython3",
   "version": "3.9.7"
  }
 },
 "nbformat": 4,
 "nbformat_minor": 5
}
